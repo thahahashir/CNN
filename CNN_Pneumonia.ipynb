{
 "cells": [
  {
   "cell_type": "code",
   "execution_count": 13,
   "metadata": {},
   "outputs": [
    {
     "data": {
      "text/plain": [
       "'C:\\\\Users\\\\USER\\\\CNN Assignment'"
      ]
     },
     "execution_count": 13,
     "metadata": {},
     "output_type": "execute_result"
    }
   ],
   "source": [
    "import os\n",
    "os.getcwd()"
   ]
  },
  {
   "cell_type": "code",
   "execution_count": 2,
   "metadata": {},
   "outputs": [
    {
     "name": "stdout",
     "output_type": "stream",
     "text": [
      "Found 240 images belonging to 2 classes.\n",
      "Found 240 images belonging to 2 classes.\n"
     ]
    },
    {
     "data": {
      "text/plain": [
       "{'NORMAL': 0, 'PNEUMONIA': 1}"
      ]
     },
     "execution_count": 2,
     "metadata": {},
     "output_type": "execute_result"
    }
   ],
   "source": [
    "'''########################## IMAGE PRE-PROCESSING for TRAINING and TESTING data ##############################'''\n",
    "TrainingImagePath = 'D:\\\\Hashir\\\\IVY\\\\Python\\\\CNN-Pneumonia\\\\Train'\n",
    "\n",
    "from keras.preprocessing.image import ImageDataGenerator\n",
    "\n",
    "# Defining pre-processing transformations on raw images of training data\n",
    "train_datagen = ImageDataGenerator(\n",
    "        rescale=1./255,\n",
    "        shear_range=0.1,\n",
    "        zoom_range=0.1,\n",
    "        horizontal_flip=True)\n",
    "\n",
    "# Defining pre-processing transformations on raw images of testing data\n",
    "test_datagen = ImageDataGenerator(rescale=1./255)\n",
    "\n",
    "# Generating the Training Data\n",
    "training_set = train_datagen.flow_from_directory(\n",
    "        TrainingImagePath,\n",
    "        target_size=(64, 64),\n",
    "        batch_size=32,\n",
    "        class_mode='categorical')\n",
    "\n",
    "# Generating the Testing Data\n",
    "test_set = test_datagen.flow_from_directory(\n",
    "        TrainingImagePath,\n",
    "        target_size=(64, 64),\n",
    "        batch_size=32,\n",
    "        class_mode='categorical')\n",
    "\n",
    "# Printing class labels for each face\n",
    "test_set.class_indices"
   ]
  },
  {
   "cell_type": "markdown",
   "metadata": {},
   "source": [
    "### Creating a list of faces and classes"
   ]
  },
  {
   "cell_type": "code",
   "execution_count": 5,
   "metadata": {},
   "outputs": [
    {
     "name": "stdout",
     "output_type": "stream",
     "text": [
      "Mapping X-ray and its Type : {0: 'NORMAL', 1: 'PNEUMONIA'}\n",
      "\n",
      " No.of. neurons: 2\n"
     ]
    }
   ],
   "source": [
    "Trainclasses=training_set.class_indices\n",
    "\n",
    "Resultmap={}\n",
    "for facevalue, facename in zip(Trainclasses.values() , Trainclasses.keys()):\n",
    "    Resultmap[facevalue]=facename\n",
    "    \n",
    "import pickle \n",
    "with open('D:\\\\Hashir\\\\IVY\\\\Python\\\\CNN-Pneumonia\\\\Resultmap.pkl', 'wb') as f:\n",
    "    pickle.dump(Resultmap, f, pickle.HIGHEST_PROTOCOL)\n",
    "    \n",
    "print('Mapping X-ray and its Type :', Resultmap)\n",
    "\n",
    "Outputneurons=len(Resultmap)\n",
    "print('\\n No.of. neurons:', Outputneurons)"
   ]
  },
  {
   "cell_type": "markdown",
   "metadata": {},
   "source": [
    "### Creating the CNN model"
   ]
  },
  {
   "cell_type": "code",
   "execution_count": 6,
   "metadata": {},
   "outputs": [],
   "source": [
    "from keras.models import Sequential\n",
    "from keras.layers import Convolution2D\n",
    "from keras.layers import MaxPool2D\n",
    "from keras.layers import Flatten\n",
    "from keras.layers import Dense\n",
    "\n",
    "classifier= Sequential()\n",
    "\n",
    "classifier.add(Convolution2D(32, kernel_size=(5,5), strides=(1,1), input_shape=(64,64,3), activation='relu'))\n",
    "classifier.add(MaxPool2D(pool_size=(2,2)))\n",
    "#adding another layer for accuracy\n",
    "classifier.add(Convolution2D(32, kernel_size=(5,5), strides=(1,1), activation='relu'))\n",
    "classifier.add(MaxPool2D(pool_size=(2,2)))\n",
    "\n",
    "classifier.add(Flatten())\n",
    "classifier.add(Dense(64, activation='relu'))\n",
    "\n",
    "classifier.add(Dense(Outputneurons, activation='softmax'))\n",
    "\n",
    "classifier.compile(loss='categorical_crossentropy', optimizer='adam', metrics=['accuracy'])\n"
   ]
  },
  {
   "cell_type": "markdown",
   "metadata": {},
   "source": [
    "### Fitting the model"
   ]
  },
  {
   "cell_type": "code",
   "execution_count": 7,
   "metadata": {
    "scrolled": true
   },
   "outputs": [
    {
     "name": "stdout",
     "output_type": "stream",
     "text": [
      "WARNING:tensorflow:From <ipython-input-7-773568802cce>:11: Model.fit_generator (from tensorflow.python.keras.engine.training) is deprecated and will be removed in a future version.\n",
      "Instructions for updating:\n",
      "Please use Model.fit, which supports generators.\n",
      "Epoch 1/10\n",
      "5/5 [==============================] - 5s 1s/step - loss: 0.7322 - accuracy: 0.5139 - val_loss: 0.6623 - val_accuracy: 0.5125\n",
      "Epoch 2/10\n",
      "5/5 [==============================] - 5s 949ms/step - loss: 0.6573 - accuracy: 0.6875 - val_loss: 0.6283 - val_accuracy: 0.8125\n",
      "Epoch 3/10\n",
      "5/5 [==============================] - 5s 1s/step - loss: 0.6333 - accuracy: 0.6562 - val_loss: 0.7017 - val_accuracy: 0.4313\n",
      "Epoch 4/10\n",
      "5/5 [==============================] - 5s 951ms/step - loss: 0.6023 - accuracy: 0.6458 - val_loss: 0.4915 - val_accuracy: 0.8813\n",
      "Epoch 5/10\n",
      "5/5 [==============================] - 5s 951ms/step - loss: 0.5544 - accuracy: 0.6667 - val_loss: 0.4352 - val_accuracy: 0.8687\n",
      "Epoch 6/10\n",
      "5/5 [==============================] - 5s 1s/step - loss: 0.4998 - accuracy: 0.7431 - val_loss: 0.4477 - val_accuracy: 0.7937\n",
      "Epoch 7/10\n",
      "5/5 [==============================] - 5s 987ms/step - loss: 0.4652 - accuracy: 0.7917 - val_loss: 0.3436 - val_accuracy: 0.9187\n",
      "Epoch 8/10\n",
      "5/5 [==============================] - 5s 964ms/step - loss: 0.3903 - accuracy: 0.8681 - val_loss: 0.2268 - val_accuracy: 0.9438\n",
      "Epoch 9/10\n",
      "5/5 [==============================] - 5s 921ms/step - loss: 0.2409 - accuracy: 0.9028 - val_loss: 0.2050 - val_accuracy: 0.9375\n",
      "Epoch 10/10\n",
      "5/5 [==============================] - 5s 982ms/step - loss: 0.2139 - accuracy: 0.9306 - val_loss: 0.2082 - val_accuracy: 0.9062\n",
      "############### Total Time Taken:  1 Minutes #############\n"
     ]
    }
   ],
   "source": [
    "import time\n",
    "# Measuring the time taken by the model to train\n",
    "StartTime=time.time()\n",
    "\n",
    "# Starting the model training\n",
    "classifier.fit_generator(\n",
    "                    training_set,\n",
    "                    steps_per_epoch=5,\n",
    "                    epochs=10,\n",
    "                    validation_data=test_set,\n",
    "                    validation_steps=5)\n",
    "\n",
    "EndTime=time.time()\n",
    "print(\"############### Total Time Taken: \", round((EndTime-StartTime)/60), 'Minutes #############')"
   ]
  },
  {
   "cell_type": "markdown",
   "metadata": {},
   "source": [
    "### Saving the model"
   ]
  },
  {
   "cell_type": "code",
   "execution_count": 8,
   "metadata": {
    "collapsed": true
   },
   "outputs": [
    {
     "name": "stdout",
     "output_type": "stream",
     "text": [
      "WARNING:tensorflow:From C:\\Users\\USER\\anaconda3\\lib\\site-packages\\tensorflow\\python\\training\\tracking\\tracking.py:111: Model.state_updates (from tensorflow.python.keras.engine.training) is deprecated and will be removed in a future version.\n",
      "Instructions for updating:\n",
      "This property should not be used in TensorFlow 2.0, as updates are applied automatically.\n",
      "WARNING:tensorflow:From C:\\Users\\USER\\anaconda3\\lib\\site-packages\\tensorflow\\python\\training\\tracking\\tracking.py:111: Layer.updates (from tensorflow.python.keras.engine.base_layer) is deprecated and will be removed in a future version.\n",
      "Instructions for updating:\n",
      "This property should not be used in TensorFlow 2.0, as updates are applied automatically.\n",
      "INFO:tensorflow:Assets written to: D:\\Hashir\\IVY\\Python\\CNN-Pneumonia\\classifier.pkl\\assets\n"
     ]
    }
   ],
   "source": [
    "## Saving the model\n",
    "classifier.save('D:\\\\Hashir\\\\IVY\\\\Python\\\\CNN-Pneumonia\\\\classifier.pkl')"
   ]
  },
  {
   "cell_type": "markdown",
   "metadata": {},
   "source": [
    "### Testing the model on a different face"
   ]
  },
  {
   "cell_type": "code",
   "execution_count": 10,
   "metadata": {},
   "outputs": [
    {
     "name": "stdout",
     "output_type": "stream",
     "text": [
      "########################################\n",
      "Prediction is:  NORMAL\n"
     ]
    }
   ],
   "source": [
    "# NORMAL\n",
    "\n",
    "import numpy as np\n",
    "from keras.preprocessing import image\n",
    "\n",
    "testImage=\"D:\\\\Hashir\\\\IVY\\\\Python\\\\CNN-Pneumonia\\\\Test\\\\NORMAL\\\\IM-0021-0001.jpeg\"\n",
    "test_image=image.load_img(testImage,target_size=(64, 64))\n",
    "test_image=image.img_to_array(test_image)\n",
    "\n",
    "test_image=np.expand_dims(test_image,axis=0)\n",
    "\n",
    "result=classifier.predict(test_image,verbose=0)\n",
    "#print(training_set.class_indices)\n",
    "\n",
    "print('####'*10)\n",
    "print('Prediction is: ',ResultMap[np.argmax(result)])"
   ]
  },
  {
   "cell_type": "code",
   "execution_count": 12,
   "metadata": {},
   "outputs": [
    {
     "name": "stdout",
     "output_type": "stream",
     "text": [
      "########################################\n",
      "Prediction is:  PNEUMONIA\n"
     ]
    }
   ],
   "source": [
    "# PNEUMONIA \n",
    "\n",
    "testImage=\"D:\\\\Hashir\\\\IVY\\\\Python\\\\CNN-Pneumonia\\\\Test\\\\PNEUMONIA\\\\person11_virus_38.jpeg\"\n",
    "test_image=image.load_img(testImage,target_size=(64, 64))\n",
    "test_image=image.img_to_array(test_image)\n",
    "\n",
    "test_image=np.expand_dims(test_image,axis=0)\n",
    "\n",
    "result=classifier.predict(test_image,verbose=0)\n",
    "#print(training_set.class_indices)\n",
    "\n",
    "print('####'*10)\n",
    "print('Prediction is: ',ResultMap[np.argmax(result)])"
   ]
  },
  {
   "cell_type": "code",
   "execution_count": null,
   "metadata": {},
   "outputs": [],
   "source": []
  }
 ],
 "metadata": {
  "kernelspec": {
   "display_name": "Python 3",
   "language": "python",
   "name": "python3"
  },
  "language_info": {
   "codemirror_mode": {
    "name": "ipython",
    "version": 3
   },
   "file_extension": ".py",
   "mimetype": "text/x-python",
   "name": "python",
   "nbconvert_exporter": "python",
   "pygments_lexer": "ipython3",
   "version": "3.7.6"
  }
 },
 "nbformat": 4,
 "nbformat_minor": 4
}
